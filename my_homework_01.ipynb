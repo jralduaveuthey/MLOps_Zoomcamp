{
 "cells": [
  {
   "cell_type": "code",
   "execution_count": 3,
   "id": "254f46b5",
   "metadata": {},
   "outputs": [],
   "source": [
    "import pandas as pd\n",
    "import seaborn as sns\n",
    "import matplotlib.pyplot as plt\n",
    "from sklearn.feature_extraction import DictVectorizer\n",
    "from sklearn.linear_model import LinearRegression\n",
    "from sklearn.linear_model import Lasso\n",
    "from sklearn.linear_model import Ridge\n",
    "import pickle\n",
    "\n",
    "from sklearn.metrics import mean_squared_error"
   ]
  },
  {
   "cell_type": "code",
   "execution_count": 18,
   "id": "675fc8c0",
   "metadata": {},
   "outputs": [],
   "source": [
    "df=pd.read_parquet('./data/fhv_tripdata_2021-01.parquet')"
   ]
  },
  {
   "cell_type": "code",
   "execution_count": 19,
   "id": "e6156c7e",
   "metadata": {},
   "outputs": [],
   "source": [
    "# df=df[df.trip_type==2]"
   ]
  },
  {
   "cell_type": "code",
   "execution_count": 20,
   "id": "e1eacd57",
   "metadata": {},
   "outputs": [
    {
     "data": {
      "text/html": [
       "<div>\n",
       "<style scoped>\n",
       "    .dataframe tbody tr th:only-of-type {\n",
       "        vertical-align: middle;\n",
       "    }\n",
       "\n",
       "    .dataframe tbody tr th {\n",
       "        vertical-align: top;\n",
       "    }\n",
       "\n",
       "    .dataframe thead th {\n",
       "        text-align: right;\n",
       "    }\n",
       "</style>\n",
       "<table border=\"1\" class=\"dataframe\">\n",
       "  <thead>\n",
       "    <tr style=\"text-align: right;\">\n",
       "      <th></th>\n",
       "      <th>dispatching_base_num</th>\n",
       "      <th>pickup_datetime</th>\n",
       "      <th>dropOff_datetime</th>\n",
       "      <th>PUlocationID</th>\n",
       "      <th>DOlocationID</th>\n",
       "      <th>SR_Flag</th>\n",
       "      <th>Affiliated_base_number</th>\n",
       "    </tr>\n",
       "  </thead>\n",
       "  <tbody>\n",
       "    <tr>\n",
       "      <th>0</th>\n",
       "      <td>B00009</td>\n",
       "      <td>2021-01-01 00:27:00</td>\n",
       "      <td>2021-01-01 00:44:00</td>\n",
       "      <td>NaN</td>\n",
       "      <td>NaN</td>\n",
       "      <td>None</td>\n",
       "      <td>B00009</td>\n",
       "    </tr>\n",
       "    <tr>\n",
       "      <th>1</th>\n",
       "      <td>B00009</td>\n",
       "      <td>2021-01-01 00:50:00</td>\n",
       "      <td>2021-01-01 01:07:00</td>\n",
       "      <td>NaN</td>\n",
       "      <td>NaN</td>\n",
       "      <td>None</td>\n",
       "      <td>B00009</td>\n",
       "    </tr>\n",
       "    <tr>\n",
       "      <th>2</th>\n",
       "      <td>B00013</td>\n",
       "      <td>2021-01-01 00:01:00</td>\n",
       "      <td>2021-01-01 01:51:00</td>\n",
       "      <td>NaN</td>\n",
       "      <td>NaN</td>\n",
       "      <td>None</td>\n",
       "      <td>B00013</td>\n",
       "    </tr>\n",
       "    <tr>\n",
       "      <th>3</th>\n",
       "      <td>B00037</td>\n",
       "      <td>2021-01-01 00:13:09</td>\n",
       "      <td>2021-01-01 00:21:26</td>\n",
       "      <td>NaN</td>\n",
       "      <td>72.0</td>\n",
       "      <td>None</td>\n",
       "      <td>B00037</td>\n",
       "    </tr>\n",
       "    <tr>\n",
       "      <th>4</th>\n",
       "      <td>B00037</td>\n",
       "      <td>2021-01-01 00:38:31</td>\n",
       "      <td>2021-01-01 00:53:44</td>\n",
       "      <td>NaN</td>\n",
       "      <td>61.0</td>\n",
       "      <td>None</td>\n",
       "      <td>B00037</td>\n",
       "    </tr>\n",
       "    <tr>\n",
       "      <th>...</th>\n",
       "      <td>...</td>\n",
       "      <td>...</td>\n",
       "      <td>...</td>\n",
       "      <td>...</td>\n",
       "      <td>...</td>\n",
       "      <td>...</td>\n",
       "      <td>...</td>\n",
       "    </tr>\n",
       "    <tr>\n",
       "      <th>1154107</th>\n",
       "      <td>B03266</td>\n",
       "      <td>2021-01-31 23:43:03</td>\n",
       "      <td>2021-01-31 23:51:48</td>\n",
       "      <td>7.0</td>\n",
       "      <td>7.0</td>\n",
       "      <td>None</td>\n",
       "      <td>B03266</td>\n",
       "    </tr>\n",
       "    <tr>\n",
       "      <th>1154108</th>\n",
       "      <td>B03284</td>\n",
       "      <td>2021-01-31 23:50:27</td>\n",
       "      <td>2021-02-01 00:48:03</td>\n",
       "      <td>44.0</td>\n",
       "      <td>91.0</td>\n",
       "      <td>None</td>\n",
       "      <td></td>\n",
       "    </tr>\n",
       "    <tr>\n",
       "      <th>1154109</th>\n",
       "      <td>B03285</td>\n",
       "      <td>2021-01-31 23:13:46</td>\n",
       "      <td>2021-01-31 23:29:58</td>\n",
       "      <td>171.0</td>\n",
       "      <td>171.0</td>\n",
       "      <td>None</td>\n",
       "      <td>B03285</td>\n",
       "    </tr>\n",
       "    <tr>\n",
       "      <th>1154110</th>\n",
       "      <td>B03285</td>\n",
       "      <td>2021-01-31 23:58:03</td>\n",
       "      <td>2021-02-01 00:17:29</td>\n",
       "      <td>15.0</td>\n",
       "      <td>15.0</td>\n",
       "      <td>None</td>\n",
       "      <td>B03285</td>\n",
       "    </tr>\n",
       "    <tr>\n",
       "      <th>1154111</th>\n",
       "      <td>B03321</td>\n",
       "      <td>2021-01-31 23:39:00</td>\n",
       "      <td>2021-02-01 00:15:00</td>\n",
       "      <td>NaN</td>\n",
       "      <td>NaN</td>\n",
       "      <td>None</td>\n",
       "      <td>B03321</td>\n",
       "    </tr>\n",
       "  </tbody>\n",
       "</table>\n",
       "<p>1154112 rows × 7 columns</p>\n",
       "</div>"
      ],
      "text/plain": [
       "        dispatching_base_num     pickup_datetime    dropOff_datetime  \\\n",
       "0                     B00009 2021-01-01 00:27:00 2021-01-01 00:44:00   \n",
       "1                     B00009 2021-01-01 00:50:00 2021-01-01 01:07:00   \n",
       "2                     B00013 2021-01-01 00:01:00 2021-01-01 01:51:00   \n",
       "3                     B00037 2021-01-01 00:13:09 2021-01-01 00:21:26   \n",
       "4                     B00037 2021-01-01 00:38:31 2021-01-01 00:53:44   \n",
       "...                      ...                 ...                 ...   \n",
       "1154107               B03266 2021-01-31 23:43:03 2021-01-31 23:51:48   \n",
       "1154108               B03284 2021-01-31 23:50:27 2021-02-01 00:48:03   \n",
       "1154109      B03285          2021-01-31 23:13:46 2021-01-31 23:29:58   \n",
       "1154110      B03285          2021-01-31 23:58:03 2021-02-01 00:17:29   \n",
       "1154111               B03321 2021-01-31 23:39:00 2021-02-01 00:15:00   \n",
       "\n",
       "         PUlocationID  DOlocationID SR_Flag Affiliated_base_number  \n",
       "0                 NaN           NaN    None                 B00009  \n",
       "1                 NaN           NaN    None                 B00009  \n",
       "2                 NaN           NaN    None                 B00013  \n",
       "3                 NaN          72.0    None                 B00037  \n",
       "4                 NaN          61.0    None                 B00037  \n",
       "...               ...           ...     ...                    ...  \n",
       "1154107           7.0           7.0    None                 B03266  \n",
       "1154108          44.0          91.0    None                         \n",
       "1154109         171.0         171.0    None        B03285           \n",
       "1154110          15.0          15.0    None        B03285           \n",
       "1154111           NaN           NaN    None                 B03321  \n",
       "\n",
       "[1154112 rows x 7 columns]"
      ]
     },
     "execution_count": 20,
     "metadata": {},
     "output_type": "execute_result"
    }
   ],
   "source": [
    "df"
   ]
  },
  {
   "cell_type": "code",
   "execution_count": 21,
   "id": "b3e8b241",
   "metadata": {},
   "outputs": [],
   "source": [
    "df['duration']=df.dropOff_datetime - df.pickup_datetime"
   ]
  },
  {
   "cell_type": "code",
   "execution_count": 22,
   "id": "5b32c276",
   "metadata": {},
   "outputs": [
    {
     "data": {
      "text/plain": [
       "Timedelta('0 days 00:17:00')"
      ]
     },
     "execution_count": 22,
     "metadata": {},
     "output_type": "execute_result"
    }
   ],
   "source": [
    "td = df.duration.iloc[0]\n",
    "td"
   ]
  },
  {
   "cell_type": "code",
   "execution_count": 23,
   "id": "1e7d8967",
   "metadata": {},
   "outputs": [
    {
     "data": {
      "text/plain": [
       "17.0"
      ]
     },
     "execution_count": 23,
     "metadata": {},
     "output_type": "execute_result"
    }
   ],
   "source": [
    "td.total_seconds()/60"
   ]
  },
  {
   "cell_type": "code",
   "execution_count": 24,
   "id": "6dd40c6f",
   "metadata": {},
   "outputs": [],
   "source": [
    "df.duration = df.duration.apply(lambda td: td.total_seconds()/60)"
   ]
  },
  {
   "cell_type": "code",
   "execution_count": 25,
   "id": "a53f3653",
   "metadata": {},
   "outputs": [
    {
     "data": {
      "text/html": [
       "<div>\n",
       "<style scoped>\n",
       "    .dataframe tbody tr th:only-of-type {\n",
       "        vertical-align: middle;\n",
       "    }\n",
       "\n",
       "    .dataframe tbody tr th {\n",
       "        vertical-align: top;\n",
       "    }\n",
       "\n",
       "    .dataframe thead th {\n",
       "        text-align: right;\n",
       "    }\n",
       "</style>\n",
       "<table border=\"1\" class=\"dataframe\">\n",
       "  <thead>\n",
       "    <tr style=\"text-align: right;\">\n",
       "      <th></th>\n",
       "      <th>dispatching_base_num</th>\n",
       "      <th>pickup_datetime</th>\n",
       "      <th>dropOff_datetime</th>\n",
       "      <th>PUlocationID</th>\n",
       "      <th>DOlocationID</th>\n",
       "      <th>SR_Flag</th>\n",
       "      <th>Affiliated_base_number</th>\n",
       "      <th>duration</th>\n",
       "    </tr>\n",
       "  </thead>\n",
       "  <tbody>\n",
       "    <tr>\n",
       "      <th>0</th>\n",
       "      <td>B00009</td>\n",
       "      <td>2021-01-01 00:27:00</td>\n",
       "      <td>2021-01-01 00:44:00</td>\n",
       "      <td>NaN</td>\n",
       "      <td>NaN</td>\n",
       "      <td>None</td>\n",
       "      <td>B00009</td>\n",
       "      <td>17.000000</td>\n",
       "    </tr>\n",
       "    <tr>\n",
       "      <th>1</th>\n",
       "      <td>B00009</td>\n",
       "      <td>2021-01-01 00:50:00</td>\n",
       "      <td>2021-01-01 01:07:00</td>\n",
       "      <td>NaN</td>\n",
       "      <td>NaN</td>\n",
       "      <td>None</td>\n",
       "      <td>B00009</td>\n",
       "      <td>17.000000</td>\n",
       "    </tr>\n",
       "    <tr>\n",
       "      <th>2</th>\n",
       "      <td>B00013</td>\n",
       "      <td>2021-01-01 00:01:00</td>\n",
       "      <td>2021-01-01 01:51:00</td>\n",
       "      <td>NaN</td>\n",
       "      <td>NaN</td>\n",
       "      <td>None</td>\n",
       "      <td>B00013</td>\n",
       "      <td>110.000000</td>\n",
       "    </tr>\n",
       "    <tr>\n",
       "      <th>3</th>\n",
       "      <td>B00037</td>\n",
       "      <td>2021-01-01 00:13:09</td>\n",
       "      <td>2021-01-01 00:21:26</td>\n",
       "      <td>NaN</td>\n",
       "      <td>72.0</td>\n",
       "      <td>None</td>\n",
       "      <td>B00037</td>\n",
       "      <td>8.283333</td>\n",
       "    </tr>\n",
       "    <tr>\n",
       "      <th>4</th>\n",
       "      <td>B00037</td>\n",
       "      <td>2021-01-01 00:38:31</td>\n",
       "      <td>2021-01-01 00:53:44</td>\n",
       "      <td>NaN</td>\n",
       "      <td>61.0</td>\n",
       "      <td>None</td>\n",
       "      <td>B00037</td>\n",
       "      <td>15.216667</td>\n",
       "    </tr>\n",
       "    <tr>\n",
       "      <th>...</th>\n",
       "      <td>...</td>\n",
       "      <td>...</td>\n",
       "      <td>...</td>\n",
       "      <td>...</td>\n",
       "      <td>...</td>\n",
       "      <td>...</td>\n",
       "      <td>...</td>\n",
       "      <td>...</td>\n",
       "    </tr>\n",
       "    <tr>\n",
       "      <th>1154107</th>\n",
       "      <td>B03266</td>\n",
       "      <td>2021-01-31 23:43:03</td>\n",
       "      <td>2021-01-31 23:51:48</td>\n",
       "      <td>7.0</td>\n",
       "      <td>7.0</td>\n",
       "      <td>None</td>\n",
       "      <td>B03266</td>\n",
       "      <td>8.750000</td>\n",
       "    </tr>\n",
       "    <tr>\n",
       "      <th>1154108</th>\n",
       "      <td>B03284</td>\n",
       "      <td>2021-01-31 23:50:27</td>\n",
       "      <td>2021-02-01 00:48:03</td>\n",
       "      <td>44.0</td>\n",
       "      <td>91.0</td>\n",
       "      <td>None</td>\n",
       "      <td></td>\n",
       "      <td>57.600000</td>\n",
       "    </tr>\n",
       "    <tr>\n",
       "      <th>1154109</th>\n",
       "      <td>B03285</td>\n",
       "      <td>2021-01-31 23:13:46</td>\n",
       "      <td>2021-01-31 23:29:58</td>\n",
       "      <td>171.0</td>\n",
       "      <td>171.0</td>\n",
       "      <td>None</td>\n",
       "      <td>B03285</td>\n",
       "      <td>16.200000</td>\n",
       "    </tr>\n",
       "    <tr>\n",
       "      <th>1154110</th>\n",
       "      <td>B03285</td>\n",
       "      <td>2021-01-31 23:58:03</td>\n",
       "      <td>2021-02-01 00:17:29</td>\n",
       "      <td>15.0</td>\n",
       "      <td>15.0</td>\n",
       "      <td>None</td>\n",
       "      <td>B03285</td>\n",
       "      <td>19.433333</td>\n",
       "    </tr>\n",
       "    <tr>\n",
       "      <th>1154111</th>\n",
       "      <td>B03321</td>\n",
       "      <td>2021-01-31 23:39:00</td>\n",
       "      <td>2021-02-01 00:15:00</td>\n",
       "      <td>NaN</td>\n",
       "      <td>NaN</td>\n",
       "      <td>None</td>\n",
       "      <td>B03321</td>\n",
       "      <td>36.000000</td>\n",
       "    </tr>\n",
       "  </tbody>\n",
       "</table>\n",
       "<p>1154112 rows × 8 columns</p>\n",
       "</div>"
      ],
      "text/plain": [
       "        dispatching_base_num     pickup_datetime    dropOff_datetime  \\\n",
       "0                     B00009 2021-01-01 00:27:00 2021-01-01 00:44:00   \n",
       "1                     B00009 2021-01-01 00:50:00 2021-01-01 01:07:00   \n",
       "2                     B00013 2021-01-01 00:01:00 2021-01-01 01:51:00   \n",
       "3                     B00037 2021-01-01 00:13:09 2021-01-01 00:21:26   \n",
       "4                     B00037 2021-01-01 00:38:31 2021-01-01 00:53:44   \n",
       "...                      ...                 ...                 ...   \n",
       "1154107               B03266 2021-01-31 23:43:03 2021-01-31 23:51:48   \n",
       "1154108               B03284 2021-01-31 23:50:27 2021-02-01 00:48:03   \n",
       "1154109      B03285          2021-01-31 23:13:46 2021-01-31 23:29:58   \n",
       "1154110      B03285          2021-01-31 23:58:03 2021-02-01 00:17:29   \n",
       "1154111               B03321 2021-01-31 23:39:00 2021-02-01 00:15:00   \n",
       "\n",
       "         PUlocationID  DOlocationID SR_Flag Affiliated_base_number    duration  \n",
       "0                 NaN           NaN    None                 B00009   17.000000  \n",
       "1                 NaN           NaN    None                 B00009   17.000000  \n",
       "2                 NaN           NaN    None                 B00013  110.000000  \n",
       "3                 NaN          72.0    None                 B00037    8.283333  \n",
       "4                 NaN          61.0    None                 B00037   15.216667  \n",
       "...               ...           ...     ...                    ...         ...  \n",
       "1154107           7.0           7.0    None                 B03266    8.750000  \n",
       "1154108          44.0          91.0    None                          57.600000  \n",
       "1154109         171.0         171.0    None        B03285            16.200000  \n",
       "1154110          15.0          15.0    None        B03285            19.433333  \n",
       "1154111           NaN           NaN    None                 B03321   36.000000  \n",
       "\n",
       "[1154112 rows x 8 columns]"
      ]
     },
     "execution_count": 25,
     "metadata": {},
     "output_type": "execute_result"
    }
   ],
   "source": [
    "df"
   ]
  },
  {
   "cell_type": "code",
   "execution_count": 13,
   "id": "524cec1d",
   "metadata": {},
   "outputs": [
    {
     "name": "stderr",
     "output_type": "stream",
     "text": [
      "/home/ubuntu/anaconda3/lib/python3.9/site-packages/seaborn/distributions.py:2619: FutureWarning: `distplot` is a deprecated function and will be removed in a future version. Please adapt your code to use either `displot` (a figure-level function with similar flexibility) or `histplot` (an axes-level function for histograms).\n",
      "  warnings.warn(msg, FutureWarning)\n"
     ]
    },
    {
     "data": {
      "text/plain": [
       "<AxesSubplot:xlabel='duration', ylabel='Density'>"
      ]
     },
     "execution_count": 13,
     "metadata": {},
     "output_type": "execute_result"
    },
    {
     "data": {
      "image/png": "[encoded data removed]",
      "text/plain": [
       "<Figure size 432x288 with 1 Axes>"
      ]
     },
     "metadata": {
      "needs_background": "light"
     },
     "output_type": "display_data"
    }
   ],
   "source": [
    "sns.distplot(df.duration)"
   ]
  },
  {
   "cell_type": "code",
   "execution_count": 14,
   "id": "d38747e2",
   "metadata": {},
   "outputs": [
    {
     "data": {
      "text/plain": [
       "count    1.154112e+06\n",
       "mean     1.916722e+01\n",
       "std      3.986922e+02\n",
       "min      1.666667e-02\n",
       "50%      1.340000e+01\n",
       "95%      4.725000e+01\n",
       "98%      6.613333e+01\n",
       "99%      9.030000e+01\n",
       "max      4.233710e+05\n",
       "Name: duration, dtype: float64"
      ]
     },
     "execution_count": 14,
     "metadata": {},
     "output_type": "execute_result"
    }
   ],
   "source": [
    "df.duration.describe(percentiles=[0.95,0.98,0.99])"
   ]
  },
  {
   "cell_type": "code",
   "execution_count": 30,
   "id": "02d169f6",
   "metadata": {},
   "outputs": [
    {
     "data": {
      "text/plain": [
       "44907"
      ]
     },
     "execution_count": 30,
     "metadata": {},
     "output_type": "execute_result"
    }
   ],
   "source": [
    "# df[((df.duration > 1)&(df.duration<=60))].shape[0]\n",
    "df.shape[0] - df[((df.duration > 1)&(df.duration<=60))].shape[0]\n",
    "#number of \"outliers\""
   ]
  },
  {
   "cell_type": "code",
   "execution_count": 31,
   "id": "d6f3aa7e",
   "metadata": {},
   "outputs": [],
   "source": [
    "df=df[((df.duration > 1)&(df.duration<=60))]"
   ]
  },
  {
   "cell_type": "code",
   "execution_count": 38,
   "id": "d7cbc7b1",
   "metadata": {},
   "outputs": [
    {
     "name": "stderr",
     "output_type": "stream",
     "text": [
      "/tmp/ipykernel_13280/600205699.py:2: SettingWithCopyWarning: \n",
      "A value is trying to be set on a copy of a slice from a DataFrame.\n",
      "Try using .loc[row_indexer,col_indexer] = value instead\n",
      "\n",
      "See the caveats in the documentation: https://pandas.pydata.org/pandas-docs/stable/user_guide/indexing.html#returning-a-view-versus-a-copy\n",
      "  df['DOlocationID']=df['DOlocationID'].fillna(-1)\n"
     ]
    }
   ],
   "source": [
    "df['PUlocationID']=df['PUlocationID'].fillna(-1)\n",
    "df['DOlocationID']=df['DOlocationID'].fillna(-1)"
   ]
  },
  {
   "cell_type": "code",
   "execution_count": 42,
   "id": "dc75f6ab",
   "metadata": {},
   "outputs": [
    {
     "data": {
      "text/plain": [
       "0.8354190613998315"
      ]
     },
     "execution_count": 42,
     "metadata": {},
     "output_type": "execute_result"
    }
   ],
   "source": [
    "(df['PUlocationID']==-1).mean()"
   ]
  },
  {
   "cell_type": "code",
   "execution_count": 43,
   "id": "906a28ae",
   "metadata": {},
   "outputs": [],
   "source": [
    "categorical=['PUlocationID','DOlocationID']\n",
    "# numerical=['trip_distance']"
   ]
  },
  {
   "cell_type": "code",
   "execution_count": 44,
   "id": "32376530",
   "metadata": {},
   "outputs": [
    {
     "name": "stderr",
     "output_type": "stream",
     "text": [
      "/tmp/ipykernel_13280/2220226503.py:1: SettingWithCopyWarning: \n",
      "A value is trying to be set on a copy of a slice from a DataFrame.\n",
      "Try using .loc[row_indexer,col_indexer] = value instead\n",
      "\n",
      "See the caveats in the documentation: https://pandas.pydata.org/pandas-docs/stable/user_guide/indexing.html#returning-a-view-versus-a-copy\n",
      "  df[categorical]=df[categorical].astype(str)\n"
     ]
    }
   ],
   "source": [
    "df[categorical]=df[categorical].astype(str)"
   ]
  },
  {
   "cell_type": "code",
   "execution_count": 45,
   "id": "4f576c20",
   "metadata": {},
   "outputs": [
    {
     "data": {
      "text/plain": [
       "PUlocationID    object\n",
       "DOlocationID    object\n",
       "dtype: object"
      ]
     },
     "execution_count": 45,
     "metadata": {},
     "output_type": "execute_result"
    }
   ],
   "source": [
    "df[categorical].dtypes"
   ]
  },
  {
   "cell_type": "code",
   "execution_count": 46,
   "id": "9a655c25",
   "metadata": {},
   "outputs": [],
   "source": [
    "train_dicts=df[categorical].to_dict(orient='records')"
   ]
  },
  {
   "cell_type": "code",
   "execution_count": 47,
   "id": "94d45779",
   "metadata": {},
   "outputs": [],
   "source": [
    "dv=DictVectorizer()\n",
    "X_train=dv.fit_transform(train_dicts)"
   ]
  },
  {
   "cell_type": "code",
   "execution_count": 50,
   "id": "b5c516f3",
   "metadata": {},
   "outputs": [
    {
     "data": {
      "text/plain": [
       "(1109205, 525)"
      ]
     },
     "execution_count": 50,
     "metadata": {},
     "output_type": "execute_result"
    }
   ],
   "source": [
    "X_train.shape"
   ]
  },
  {
   "cell_type": "code",
   "execution_count": 51,
   "id": "076a3e36",
   "metadata": {},
   "outputs": [
    {
     "data": {
      "text/plain": [
       "['DOlocationID=-1.0',\n",
       " 'DOlocationID=1.0',\n",
       " 'DOlocationID=10.0',\n",
       " 'DOlocationID=100.0',\n",
       " 'DOlocationID=101.0',\n",
       " 'DOlocationID=102.0',\n",
       " 'DOlocationID=105.0',\n",
       " 'DOlocationID=106.0',\n",
       " 'DOlocationID=107.0',\n",
       " 'DOlocationID=108.0',\n",
       " 'DOlocationID=109.0',\n",
       " 'DOlocationID=11.0',\n",
       " 'DOlocationID=111.0',\n",
       " 'DOlocationID=112.0',\n",
       " 'DOlocationID=113.0',\n",
       " 'DOlocationID=114.0',\n",
       " 'DOlocationID=115.0',\n",
       " 'DOlocationID=116.0',\n",
       " 'DOlocationID=117.0',\n",
       " 'DOlocationID=118.0',\n",
       " 'DOlocationID=119.0',\n",
       " 'DOlocationID=12.0',\n",
       " 'DOlocationID=120.0',\n",
       " 'DOlocationID=121.0',\n",
       " 'DOlocationID=122.0',\n",
       " 'DOlocationID=123.0',\n",
       " 'DOlocationID=124.0',\n",
       " 'DOlocationID=125.0',\n",
       " 'DOlocationID=126.0',\n",
       " 'DOlocationID=127.0',\n",
       " 'DOlocationID=128.0',\n",
       " 'DOlocationID=129.0',\n",
       " 'DOlocationID=13.0',\n",
       " 'DOlocationID=130.0',\n",
       " 'DOlocationID=131.0',\n",
       " 'DOlocationID=132.0',\n",
       " 'DOlocationID=133.0',\n",
       " 'DOlocationID=134.0',\n",
       " 'DOlocationID=135.0',\n",
       " 'DOlocationID=136.0',\n",
       " 'DOlocationID=137.0',\n",
       " 'DOlocationID=138.0',\n",
       " 'DOlocationID=139.0',\n",
       " 'DOlocationID=14.0',\n",
       " 'DOlocationID=140.0',\n",
       " 'DOlocationID=141.0',\n",
       " 'DOlocationID=142.0',\n",
       " 'DOlocationID=143.0',\n",
       " 'DOlocationID=144.0',\n",
       " 'DOlocationID=145.0',\n",
       " 'DOlocationID=146.0',\n",
       " 'DOlocationID=147.0',\n",
       " 'DOlocationID=148.0',\n",
       " 'DOlocationID=149.0',\n",
       " 'DOlocationID=15.0',\n",
       " 'DOlocationID=150.0',\n",
       " 'DOlocationID=151.0',\n",
       " 'DOlocationID=152.0',\n",
       " 'DOlocationID=153.0',\n",
       " 'DOlocationID=154.0',\n",
       " 'DOlocationID=155.0',\n",
       " 'DOlocationID=156.0',\n",
       " 'DOlocationID=157.0',\n",
       " 'DOlocationID=158.0',\n",
       " 'DOlocationID=159.0',\n",
       " 'DOlocationID=16.0',\n",
       " 'DOlocationID=160.0',\n",
       " 'DOlocationID=161.0',\n",
       " 'DOlocationID=162.0',\n",
       " 'DOlocationID=163.0',\n",
       " 'DOlocationID=164.0',\n",
       " 'DOlocationID=165.0',\n",
       " 'DOlocationID=166.0',\n",
       " 'DOlocationID=167.0',\n",
       " 'DOlocationID=168.0',\n",
       " 'DOlocationID=169.0',\n",
       " 'DOlocationID=17.0',\n",
       " 'DOlocationID=170.0',\n",
       " 'DOlocationID=171.0',\n",
       " 'DOlocationID=172.0',\n",
       " 'DOlocationID=173.0',\n",
       " 'DOlocationID=174.0',\n",
       " 'DOlocationID=175.0',\n",
       " 'DOlocationID=176.0',\n",
       " 'DOlocationID=177.0',\n",
       " 'DOlocationID=178.0',\n",
       " 'DOlocationID=179.0',\n",
       " 'DOlocationID=18.0',\n",
       " 'DOlocationID=180.0',\n",
       " 'DOlocationID=181.0',\n",
       " 'DOlocationID=182.0',\n",
       " 'DOlocationID=183.0',\n",
       " 'DOlocationID=184.0',\n",
       " 'DOlocationID=185.0',\n",
       " 'DOlocationID=186.0',\n",
       " 'DOlocationID=187.0',\n",
       " 'DOlocationID=188.0',\n",
       " 'DOlocationID=189.0',\n",
       " 'DOlocationID=19.0',\n",
       " 'DOlocationID=190.0',\n",
       " 'DOlocationID=191.0',\n",
       " 'DOlocationID=192.0',\n",
       " 'DOlocationID=193.0',\n",
       " 'DOlocationID=194.0',\n",
       " 'DOlocationID=195.0',\n",
       " 'DOlocationID=196.0',\n",
       " 'DOlocationID=197.0',\n",
       " 'DOlocationID=198.0',\n",
       " 'DOlocationID=199.0',\n",
       " 'DOlocationID=2.0',\n",
       " 'DOlocationID=20.0',\n",
       " 'DOlocationID=200.0',\n",
       " 'DOlocationID=201.0',\n",
       " 'DOlocationID=202.0',\n",
       " 'DOlocationID=203.0',\n",
       " 'DOlocationID=204.0',\n",
       " 'DOlocationID=205.0',\n",
       " 'DOlocationID=206.0',\n",
       " 'DOlocationID=207.0',\n",
       " 'DOlocationID=208.0',\n",
       " 'DOlocationID=209.0',\n",
       " 'DOlocationID=21.0',\n",
       " 'DOlocationID=210.0',\n",
       " 'DOlocationID=211.0',\n",
       " 'DOlocationID=212.0',\n",
       " 'DOlocationID=213.0',\n",
       " 'DOlocationID=214.0',\n",
       " 'DOlocationID=215.0',\n",
       " 'DOlocationID=216.0',\n",
       " 'DOlocationID=217.0',\n",
       " 'DOlocationID=218.0',\n",
       " 'DOlocationID=219.0',\n",
       " 'DOlocationID=22.0',\n",
       " 'DOlocationID=220.0',\n",
       " 'DOlocationID=221.0',\n",
       " 'DOlocationID=222.0',\n",
       " 'DOlocationID=223.0',\n",
       " 'DOlocationID=224.0',\n",
       " 'DOlocationID=225.0',\n",
       " 'DOlocationID=226.0',\n",
       " 'DOlocationID=227.0',\n",
       " 'DOlocationID=228.0',\n",
       " 'DOlocationID=229.0',\n",
       " 'DOlocationID=23.0',\n",
       " 'DOlocationID=230.0',\n",
       " 'DOlocationID=231.0',\n",
       " 'DOlocationID=232.0',\n",
       " 'DOlocationID=233.0',\n",
       " 'DOlocationID=234.0',\n",
       " 'DOlocationID=235.0',\n",
       " 'DOlocationID=236.0',\n",
       " 'DOlocationID=237.0',\n",
       " 'DOlocationID=238.0',\n",
       " 'DOlocationID=239.0',\n",
       " 'DOlocationID=24.0',\n",
       " 'DOlocationID=240.0',\n",
       " 'DOlocationID=241.0',\n",
       " 'DOlocationID=242.0',\n",
       " 'DOlocationID=243.0',\n",
       " 'DOlocationID=244.0',\n",
       " 'DOlocationID=245.0',\n",
       " 'DOlocationID=246.0',\n",
       " 'DOlocationID=247.0',\n",
       " 'DOlocationID=248.0',\n",
       " 'DOlocationID=249.0',\n",
       " 'DOlocationID=25.0',\n",
       " 'DOlocationID=250.0',\n",
       " 'DOlocationID=251.0',\n",
       " 'DOlocationID=252.0',\n",
       " 'DOlocationID=253.0',\n",
       " 'DOlocationID=254.0',\n",
       " 'DOlocationID=255.0',\n",
       " 'DOlocationID=256.0',\n",
       " 'DOlocationID=257.0',\n",
       " 'DOlocationID=258.0',\n",
       " 'DOlocationID=259.0',\n",
       " 'DOlocationID=26.0',\n",
       " 'DOlocationID=260.0',\n",
       " 'DOlocationID=261.0',\n",
       " 'DOlocationID=262.0',\n",
       " 'DOlocationID=263.0',\n",
       " 'DOlocationID=264.0',\n",
       " 'DOlocationID=265.0',\n",
       " 'DOlocationID=27.0',\n",
       " 'DOlocationID=28.0',\n",
       " 'DOlocationID=29.0',\n",
       " 'DOlocationID=3.0',\n",
       " 'DOlocationID=30.0',\n",
       " 'DOlocationID=31.0',\n",
       " 'DOlocationID=32.0',\n",
       " 'DOlocationID=33.0',\n",
       " 'DOlocationID=34.0',\n",
       " 'DOlocationID=35.0',\n",
       " 'DOlocationID=36.0',\n",
       " 'DOlocationID=37.0',\n",
       " 'DOlocationID=38.0',\n",
       " 'DOlocationID=39.0',\n",
       " 'DOlocationID=4.0',\n",
       " 'DOlocationID=40.0',\n",
       " 'DOlocationID=41.0',\n",
       " 'DOlocationID=42.0',\n",
       " 'DOlocationID=43.0',\n",
       " 'DOlocationID=44.0',\n",
       " 'DOlocationID=45.0',\n",
       " 'DOlocationID=46.0',\n",
       " 'DOlocationID=47.0',\n",
       " 'DOlocationID=48.0',\n",
       " 'DOlocationID=49.0',\n",
       " 'DOlocationID=5.0',\n",
       " 'DOlocationID=50.0',\n",
       " 'DOlocationID=51.0',\n",
       " 'DOlocationID=52.0',\n",
       " 'DOlocationID=53.0',\n",
       " 'DOlocationID=54.0',\n",
       " 'DOlocationID=55.0',\n",
       " 'DOlocationID=56.0',\n",
       " 'DOlocationID=57.0',\n",
       " 'DOlocationID=58.0',\n",
       " 'DOlocationID=59.0',\n",
       " 'DOlocationID=6.0',\n",
       " 'DOlocationID=60.0',\n",
       " 'DOlocationID=61.0',\n",
       " 'DOlocationID=62.0',\n",
       " 'DOlocationID=63.0',\n",
       " 'DOlocationID=64.0',\n",
       " 'DOlocationID=65.0',\n",
       " 'DOlocationID=66.0',\n",
       " 'DOlocationID=67.0',\n",
       " 'DOlocationID=68.0',\n",
       " 'DOlocationID=69.0',\n",
       " 'DOlocationID=7.0',\n",
       " 'DOlocationID=70.0',\n",
       " 'DOlocationID=71.0',\n",
       " 'DOlocationID=72.0',\n",
       " 'DOlocationID=73.0',\n",
       " 'DOlocationID=74.0',\n",
       " 'DOlocationID=75.0',\n",
       " 'DOlocationID=76.0',\n",
       " 'DOlocationID=77.0',\n",
       " 'DOlocationID=78.0',\n",
       " 'DOlocationID=79.0',\n",
       " 'DOlocationID=8.0',\n",
       " 'DOlocationID=80.0',\n",
       " 'DOlocationID=81.0',\n",
       " 'DOlocationID=82.0',\n",
       " 'DOlocationID=83.0',\n",
       " 'DOlocationID=84.0',\n",
       " 'DOlocationID=85.0',\n",
       " 'DOlocationID=86.0',\n",
       " 'DOlocationID=87.0',\n",
       " 'DOlocationID=88.0',\n",
       " 'DOlocationID=89.0',\n",
       " 'DOlocationID=9.0',\n",
       " 'DOlocationID=90.0',\n",
       " 'DOlocationID=91.0',\n",
       " 'DOlocationID=92.0',\n",
       " 'DOlocationID=93.0',\n",
       " 'DOlocationID=94.0',\n",
       " 'DOlocationID=95.0',\n",
       " 'DOlocationID=96.0',\n",
       " 'DOlocationID=97.0',\n",
       " 'DOlocationID=98.0',\n",
       " 'DOlocationID=99.0',\n",
       " 'PUlocationID=-1.0',\n",
       " 'PUlocationID=1.0',\n",
       " 'PUlocationID=10.0',\n",
       " 'PUlocationID=100.0',\n",
       " 'PUlocationID=101.0',\n",
       " 'PUlocationID=102.0',\n",
       " 'PUlocationID=106.0',\n",
       " 'PUlocationID=107.0',\n",
       " 'PUlocationID=108.0',\n",
       " 'PUlocationID=109.0',\n",
       " 'PUlocationID=11.0',\n",
       " 'PUlocationID=110.0',\n",
       " 'PUlocationID=111.0',\n",
       " 'PUlocationID=112.0',\n",
       " 'PUlocationID=113.0',\n",
       " 'PUlocationID=114.0',\n",
       " 'PUlocationID=115.0',\n",
       " 'PUlocationID=116.0',\n",
       " 'PUlocationID=117.0',\n",
       " 'PUlocationID=118.0',\n",
       " 'PUlocationID=119.0',\n",
       " 'PUlocationID=12.0',\n",
       " 'PUlocationID=120.0',\n",
       " 'PUlocationID=121.0',\n",
       " 'PUlocationID=122.0',\n",
       " 'PUlocationID=123.0',\n",
       " 'PUlocationID=124.0',\n",
       " 'PUlocationID=125.0',\n",
       " 'PUlocationID=126.0',\n",
       " 'PUlocationID=127.0',\n",
       " 'PUlocationID=128.0',\n",
       " 'PUlocationID=129.0',\n",
       " 'PUlocationID=13.0',\n",
       " 'PUlocationID=130.0',\n",
       " 'PUlocationID=131.0',\n",
       " 'PUlocationID=132.0',\n",
       " 'PUlocationID=133.0',\n",
       " 'PUlocationID=134.0',\n",
       " 'PUlocationID=135.0',\n",
       " 'PUlocationID=136.0',\n",
       " 'PUlocationID=137.0',\n",
       " 'PUlocationID=138.0',\n",
       " 'PUlocationID=139.0',\n",
       " 'PUlocationID=14.0',\n",
       " 'PUlocationID=140.0',\n",
       " 'PUlocationID=141.0',\n",
       " 'PUlocationID=142.0',\n",
       " 'PUlocationID=143.0',\n",
       " 'PUlocationID=144.0',\n",
       " 'PUlocationID=145.0',\n",
       " 'PUlocationID=146.0',\n",
       " 'PUlocationID=147.0',\n",
       " 'PUlocationID=148.0',\n",
       " 'PUlocationID=149.0',\n",
       " 'PUlocationID=15.0',\n",
       " 'PUlocationID=150.0',\n",
       " 'PUlocationID=151.0',\n",
       " 'PUlocationID=152.0',\n",
       " 'PUlocationID=153.0',\n",
       " 'PUlocationID=154.0',\n",
       " 'PUlocationID=155.0',\n",
       " 'PUlocationID=156.0',\n",
       " 'PUlocationID=157.0',\n",
       " 'PUlocationID=158.0',\n",
       " 'PUlocationID=159.0',\n",
       " 'PUlocationID=16.0',\n",
       " 'PUlocationID=160.0',\n",
       " 'PUlocationID=161.0',\n",
       " 'PUlocationID=162.0',\n",
       " 'PUlocationID=163.0',\n",
       " 'PUlocationID=164.0',\n",
       " 'PUlocationID=165.0',\n",
       " 'PUlocationID=166.0',\n",
       " 'PUlocationID=167.0',\n",
       " 'PUlocationID=168.0',\n",
       " 'PUlocationID=169.0',\n",
       " 'PUlocationID=17.0',\n",
       " 'PUlocationID=170.0',\n",
       " 'PUlocationID=171.0',\n",
       " 'PUlocationID=172.0',\n",
       " 'PUlocationID=173.0',\n",
       " 'PUlocationID=174.0',\n",
       " 'PUlocationID=175.0',\n",
       " 'PUlocationID=176.0',\n",
       " 'PUlocationID=177.0',\n",
       " 'PUlocationID=178.0',\n",
       " 'PUlocationID=179.0',\n",
       " 'PUlocationID=18.0',\n",
       " 'PUlocationID=180.0',\n",
       " 'PUlocationID=181.0',\n",
       " 'PUlocationID=182.0',\n",
       " 'PUlocationID=183.0',\n",
       " 'PUlocationID=184.0',\n",
       " 'PUlocationID=185.0',\n",
       " 'PUlocationID=186.0',\n",
       " 'PUlocationID=187.0',\n",
       " 'PUlocationID=188.0',\n",
       " 'PUlocationID=189.0',\n",
       " 'PUlocationID=19.0',\n",
       " 'PUlocationID=190.0',\n",
       " 'PUlocationID=191.0',\n",
       " 'PUlocationID=192.0',\n",
       " 'PUlocationID=193.0',\n",
       " 'PUlocationID=194.0',\n",
       " 'PUlocationID=195.0',\n",
       " 'PUlocationID=196.0',\n",
       " 'PUlocationID=197.0',\n",
       " 'PUlocationID=198.0',\n",
       " 'PUlocationID=2.0',\n",
       " 'PUlocationID=20.0',\n",
       " 'PUlocationID=200.0',\n",
       " 'PUlocationID=201.0',\n",
       " 'PUlocationID=202.0',\n",
       " 'PUlocationID=203.0',\n",
       " 'PUlocationID=204.0',\n",
       " 'PUlocationID=205.0',\n",
       " 'PUlocationID=206.0',\n",
       " 'PUlocationID=207.0',\n",
       " 'PUlocationID=208.0',\n",
       " 'PUlocationID=209.0',\n",
       " 'PUlocationID=21.0',\n",
       " 'PUlocationID=210.0',\n",
       " 'PUlocationID=211.0',\n",
       " 'PUlocationID=212.0',\n",
       " 'PUlocationID=213.0',\n",
       " 'PUlocationID=214.0',\n",
       " 'PUlocationID=215.0',\n",
       " 'PUlocationID=216.0',\n",
       " 'PUlocationID=217.0',\n",
       " 'PUlocationID=218.0',\n",
       " 'PUlocationID=219.0',\n",
       " 'PUlocationID=22.0',\n",
       " 'PUlocationID=220.0',\n",
       " 'PUlocationID=221.0',\n",
       " 'PUlocationID=222.0',\n",
       " 'PUlocationID=223.0',\n",
       " 'PUlocationID=224.0',\n",
       " 'PUlocationID=225.0',\n",
       " 'PUlocationID=226.0',\n",
       " 'PUlocationID=227.0',\n",
       " 'PUlocationID=228.0',\n",
       " 'PUlocationID=229.0',\n",
       " 'PUlocationID=23.0',\n",
       " 'PUlocationID=230.0',\n",
       " 'PUlocationID=231.0',\n",
       " 'PUlocationID=232.0',\n",
       " 'PUlocationID=233.0',\n",
       " 'PUlocationID=234.0',\n",
       " 'PUlocationID=235.0',\n",
       " 'PUlocationID=236.0',\n",
       " 'PUlocationID=237.0',\n",
       " 'PUlocationID=238.0',\n",
       " 'PUlocationID=239.0',\n",
       " 'PUlocationID=24.0',\n",
       " 'PUlocationID=240.0',\n",
       " 'PUlocationID=241.0',\n",
       " 'PUlocationID=242.0',\n",
       " 'PUlocationID=243.0',\n",
       " 'PUlocationID=244.0',\n",
       " 'PUlocationID=245.0',\n",
       " 'PUlocationID=246.0',\n",
       " 'PUlocationID=247.0',\n",
       " 'PUlocationID=248.0',\n",
       " 'PUlocationID=249.0',\n",
       " 'PUlocationID=25.0',\n",
       " 'PUlocationID=250.0',\n",
       " 'PUlocationID=251.0',\n",
       " 'PUlocationID=252.0',\n",
       " 'PUlocationID=253.0',\n",
       " 'PUlocationID=254.0',\n",
       " 'PUlocationID=255.0',\n",
       " 'PUlocationID=256.0',\n",
       " 'PUlocationID=257.0',\n",
       " 'PUlocationID=258.0',\n",
       " 'PUlocationID=259.0',\n",
       " 'PUlocationID=26.0',\n",
       " 'PUlocationID=260.0',\n",
       " 'PUlocationID=261.0',\n",
       " 'PUlocationID=262.0',\n",
       " 'PUlocationID=263.0',\n",
       " 'PUlocationID=264.0',\n",
       " 'PUlocationID=265.0',\n",
       " 'PUlocationID=27.0',\n",
       " 'PUlocationID=28.0',\n",
       " 'PUlocationID=29.0',\n",
       " 'PUlocationID=3.0',\n",
       " 'PUlocationID=30.0',\n",
       " 'PUlocationID=31.0',\n",
       " 'PUlocationID=32.0',\n",
       " 'PUlocationID=33.0',\n",
       " 'PUlocationID=34.0',\n",
       " 'PUlocationID=35.0',\n",
       " 'PUlocationID=36.0',\n",
       " 'PUlocationID=37.0',\n",
       " 'PUlocationID=38.0',\n",
       " 'PUlocationID=39.0',\n",
       " 'PUlocationID=4.0',\n",
       " 'PUlocationID=40.0',\n",
       " 'PUlocationID=41.0',\n",
       " 'PUlocationID=42.0',\n",
       " 'PUlocationID=43.0',\n",
       " 'PUlocationID=44.0',\n",
       " 'PUlocationID=45.0',\n",
       " 'PUlocationID=46.0',\n",
       " 'PUlocationID=47.0',\n",
       " 'PUlocationID=48.0',\n",
       " 'PUlocationID=49.0',\n",
       " 'PUlocationID=5.0',\n",
       " 'PUlocationID=50.0',\n",
       " 'PUlocationID=51.0',\n",
       " 'PUlocationID=52.0',\n",
       " 'PUlocationID=53.0',\n",
       " 'PUlocationID=54.0',\n",
       " 'PUlocationID=55.0',\n",
       " 'PUlocationID=56.0',\n",
       " 'PUlocationID=57.0',\n",
       " 'PUlocationID=58.0',\n",
       " 'PUlocationID=59.0',\n",
       " 'PUlocationID=6.0',\n",
       " 'PUlocationID=60.0',\n",
       " 'PUlocationID=61.0',\n",
       " 'PUlocationID=62.0',\n",
       " 'PUlocationID=63.0',\n",
       " 'PUlocationID=64.0',\n",
       " 'PUlocationID=65.0',\n",
       " 'PUlocationID=66.0',\n",
       " 'PUlocationID=67.0',\n",
       " 'PUlocationID=68.0',\n",
       " 'PUlocationID=69.0',\n",
       " 'PUlocationID=7.0',\n",
       " 'PUlocationID=70.0',\n",
       " 'PUlocationID=71.0',\n",
       " 'PUlocationID=72.0',\n",
       " 'PUlocationID=73.0',\n",
       " 'PUlocationID=74.0',\n",
       " 'PUlocationID=75.0',\n",
       " 'PUlocationID=76.0',\n",
       " 'PUlocationID=77.0',\n",
       " 'PUlocationID=78.0',\n",
       " 'PUlocationID=79.0',\n",
       " 'PUlocationID=8.0',\n",
       " 'PUlocationID=80.0',\n",
       " 'PUlocationID=81.0',\n",
       " 'PUlocationID=82.0',\n",
       " 'PUlocationID=83.0',\n",
       " 'PUlocationID=84.0',\n",
       " 'PUlocationID=85.0',\n",
       " 'PUlocationID=86.0',\n",
       " 'PUlocationID=87.0',\n",
       " 'PUlocationID=88.0',\n",
       " 'PUlocationID=89.0',\n",
       " 'PUlocationID=9.0',\n",
       " 'PUlocationID=90.0',\n",
       " 'PUlocationID=91.0',\n",
       " 'PUlocationID=92.0',\n",
       " 'PUlocationID=93.0',\n",
       " 'PUlocationID=94.0',\n",
       " 'PUlocationID=95.0',\n",
       " 'PUlocationID=96.0',\n",
       " 'PUlocationID=97.0',\n",
       " 'PUlocationID=98.0',\n",
       " 'PUlocationID=99.0']"
      ]
     },
     "execution_count": 51,
     "metadata": {},
     "output_type": "execute_result"
    }
   ],
   "source": [
    "dv.feature_names_"
   ]
  },
  {
   "cell_type": "code",
   "execution_count": 52,
   "id": "36d98788",
   "metadata": {},
   "outputs": [],
   "source": [
    "target='duration'\n",
    "y_train=df[target].values"
   ]
  },
  {
   "cell_type": "code",
   "execution_count": 53,
   "id": "81743956",
   "metadata": {},
   "outputs": [
    {
     "data": {
      "text/plain": [
       "array([17.        , 17.        ,  8.28333333, ..., 16.2       ,\n",
       "       19.43333333, 36.        ])"
      ]
     },
     "execution_count": 53,
     "metadata": {},
     "output_type": "execute_result"
    }
   ],
   "source": [
    "y_train"
   ]
  },
  {
   "cell_type": "code",
   "execution_count": 54,
   "id": "7f0dda48",
   "metadata": {},
   "outputs": [],
   "source": [
    "lr = LinearRegression()"
   ]
  },
  {
   "cell_type": "code",
   "execution_count": 55,
   "id": "792e0385",
   "metadata": {},
   "outputs": [
    {
     "data": {
      "text/plain": [
       "LinearRegression()"
      ]
     },
     "execution_count": 55,
     "metadata": {},
     "output_type": "execute_result"
    }
   ],
   "source": [
    "lr.fit(X_train, y_train)"
   ]
  },
  {
   "cell_type": "code",
   "execution_count": 56,
   "id": "8eb5408b",
   "metadata": {},
   "outputs": [],
   "source": [
    "y_pred=lr.predict(X_train)"
   ]
  },
  {
   "cell_type": "code",
   "execution_count": 57,
   "id": "7ce67adc",
   "metadata": {},
   "outputs": [
    {
     "name": "stderr",
     "output_type": "stream",
     "text": [
      "/home/ubuntu/anaconda3/lib/python3.9/site-packages/seaborn/distributions.py:2619: FutureWarning: `distplot` is a deprecated function and will be removed in a future version. Please adapt your code to use either `displot` (a figure-level function with similar flexibility) or `histplot` (an axes-level function for histograms).\n",
      "  warnings.warn(msg, FutureWarning)\n",
      "/home/ubuntu/anaconda3/lib/python3.9/site-packages/seaborn/distributions.py:2619: FutureWarning: `distplot` is a deprecated function and will be removed in a future version. Please adapt your code to use either `displot` (a figure-level function with similar flexibility) or `histplot` (an axes-level function for histograms).\n",
      "  warnings.warn(msg, FutureWarning)\n"
     ]
    },
    {
     "data": {
      "text/plain": [
       "<matplotlib.legend.Legend at 0x7fb6e8cb0cd0>"
      ]
     },
     "execution_count": 57,
     "metadata": {},
     "output_type": "execute_result"
    },
    {
     "data": {
      "image/png": "[encoded data removed]",
      "text/plain": [
       "<Figure size 432x288 with 1 Axes>"
      ]
     },
     "metadata": {
      "needs_background": "light"
     },
     "output_type": "display_data"
    }
   ],
   "source": [
    "sns.distplot(y_pred, label='prediction')\n",
    "sns.distplot(y_train, label='actual')\n",
    "plt.legend()"
   ]
  },
  {
   "cell_type": "code",
   "execution_count": 58,
   "id": "84e4175f",
   "metadata": {},
   "outputs": [
    {
     "data": {
      "text/plain": [
       "10.523282800794908"
      ]
     },
     "execution_count": 58,
     "metadata": {},
     "output_type": "execute_result"
    }
   ],
   "source": [
    "mean_squared_error(y_train, y_pred, squared=False)"
   ]
  },
  {
   "cell_type": "code",
   "execution_count": 61,
   "id": "2fe93120",
   "metadata": {},
   "outputs": [],
   "source": [
    "def read_dataframe(filename):\n",
    "    if filename.endswith('.csv'):\n",
    "        df = pd.read_csv(filename)\n",
    "\n",
    "        df.lpep_dropoff_datetime = pd.to_datetime(df.lpep_dropoff_datetime)\n",
    "        df.lpep_pickup_datetime = pd.to_datetime(df.lpep_pickup_datetime)\n",
    "    elif filename.endswith('.parquet'):\n",
    "        df = pd.read_parquet(filename)\n",
    "\n",
    "    df['duration'] =df.dropOff_datetime - df.pickup_datetime\n",
    "    df.duration = df.duration.apply(lambda td: td.total_seconds() / 60)\n",
    "\n",
    "    df = df[(df.duration >= 1) & (df.duration <= 60)]\n",
    "\n",
    "    categorical = ['PUlocationID','DOlocationID']\n",
    "    df[categorical] = df[categorical].astype(str)\n",
    "    \n",
    "    return df"
   ]
  },
  {
   "cell_type": "code",
   "execution_count": 62,
   "id": "37089f6a",
   "metadata": {},
   "outputs": [],
   "source": [
    "df_val = read_dataframe('./data/fhv_tripdata_2021-02.parquet')"
   ]
  },
  {
   "cell_type": "code",
   "execution_count": 63,
   "id": "8293c8bb",
   "metadata": {},
   "outputs": [],
   "source": [
    "categorical = ['PUlocationID','DOlocationID']\n",
    "val_dicts = df_val[categorical].to_dict(orient='records')\n",
    "X_val = dv.transform(val_dicts)"
   ]
  },
  {
   "cell_type": "code",
   "execution_count": 65,
   "id": "832ebc33",
   "metadata": {},
   "outputs": [],
   "source": [
    "target = 'duration'\n",
    "y_val = df_val[target].values"
   ]
  },
  {
   "cell_type": "code",
   "execution_count": 66,
   "id": "b8e66745",
   "metadata": {},
   "outputs": [
    {
     "data": {
      "text/plain": [
       "11.367663253620998"
      ]
     },
     "execution_count": 66,
     "metadata": {},
     "output_type": "execute_result"
    }
   ],
   "source": [
    "y_pred_val = lr.predict(X_val)\n",
    "mean_squared_error(y_val, y_pred_val, squared=False)"
   ]
  }
 ],
 "metadata": {
  "kernelspec": {
   "display_name": "Python 3 (ipykernel)",
   "language": "python",
   "name": "python3"
  },
  "language_info": {
   "codemirror_mode": {
    "name": "ipython",
    "version": 3
   },
   "file_extension": ".py",
   "mimetype": "text/x-python",
   "name": "python",
   "nbconvert_exporter": "python",
   "pygments_lexer": "ipython3",
   "version": "3.9.12"
  }
 },
 "nbformat": 4,
 "nbformat_minor": 5
}
